{
 "cells": [
  {
   "cell_type": "code",
   "execution_count": null,
   "metadata": {},
   "outputs": [],
   "source": [
    "!sh get_data.sh"
   ]
  },
  {
   "cell_type": "code",
   "execution_count": 20,
   "metadata": {},
   "outputs": [],
   "source": [
    "import numpy as np\n",
    "from scipy.special import factorial\n",
    "from tqdm import tqdm_notebook\n",
    "import matplotlib.pyplot as plt\n",
    "from load_data import get_data"
   ]
  },
  {
   "cell_type": "code",
   "execution_count": 21,
   "metadata": {},
   "outputs": [],
   "source": [
    "from buffet import IndianBuffet\n",
    "np.random.seed(100)\n",
    "\n",
    "def init_ibm(data):\n",
    "    Xs = len(data)\n",
    "    return IndianBuffet(data, (1, 1, 1), [(1.7, 1, 1)] * Xs, [(0.5, 1, 1)] * Xs)"
   ]
  },
  {
   "cell_type": "code",
   "execution_count": 22,
   "metadata": {},
   "outputs": [
    {
     "name": "stdout",
     "output_type": "stream",
     "text": [
      "(64, 196)\n",
      "(32, 196)\n"
     ]
    }
   ],
   "source": [
    "X_train, X_test = get_data(include_labels=True)"
   ]
  },
  {
   "cell_type": "code",
   "execution_count": 23,
   "metadata": {},
   "outputs": [],
   "source": [
    "def predict(model, Xs):\n",
    "    best = (-float('inf'), None, None)\n",
    "    for Z in model.Zs:\n",
    "        m = Z.sum(axis=0) - Z\n",
    "        lps = np.sum(np.log(np.where(Z == 1, m, model.N - m) / model.N), axis=1)\n",
    "        for f, X in zip(model.feats[:-1], Xs[:-1]):\n",
    "            if X is not None:\n",
    "                X_bar = Z @ f.weights(Z)\n",
    "                diffs = np.sum((X - X_bar) ** 2, axis=1) / (2 * f.var_x)\n",
    "                lps -= diffs + np.log(2 * np.pi) / 2 + np.log(f.var_x) * f.D / 2\n",
    "        i = np.argmax(lps)\n",
    "        if lps[i] > best[0]:\n",
    "            best = lps[i], Z, i\n",
    "    best_lp, best_Z, best_i = best\n",
    "    W = model.feats[-1].weights(best_Z)\n",
    "    X_w_pred = best_Z[best_i] @ W\n",
    "    print(X_w_pred, Xs[-1])\n",
    "#     print(np.argmax(X_w_pred) == np.argmax(Xs[-1]))\n",
    "    return Xs[-1][np.argmax(X_w_pred)] == 1"
   ]
  },
  {
   "cell_type": "code",
   "execution_count": 40,
   "metadata": {},
   "outputs": [],
   "source": [
    "def get_X_types(X):\n",
    "    N = len(X[0])\n",
    "    return {\n",
    "        'multi': X,\n",
    "        'vision_uni': [X[0], [None] * N, X[2]],\n",
    "        'audio_uni': [[None] * N, X[1], X[2]],\n",
    "        'vision': [X[0], X[2]],\n",
    "        'audio': [X[1], X[2]],\n",
    "    }\n",
    "\n",
    "def run_experiment(X_train, X_test, seed=None):\n",
    "    N_train = len(X_train[0])\n",
    "    N_test = len(X_test[0])\n",
    "    trains = get_X_types(X_train)\n",
    "    tests = get_X_types(X_test)\n",
    "    \n",
    "    train_test_map = {\n",
    "        'vision': ['vision'],\n",
    "        'audio': ['audio'],\n",
    "        'multi': ['multi', 'vision_uni', 'audio_uni']\n",
    "    }\n",
    "    \n",
    "    for train_type in train_test_map.keys():\n",
    "        np.random.seed(seed)\n",
    "        print(f'Training {train_type}...')\n",
    "        ibm = init_ibm(trains[train_type])\n",
    "        ibm.run_sampler(iters=5000)\n",
    "        \n",
    "        for test_type in train_test_map[train_type]:\n",
    "            train_predictions = [predict(ibm, xs) for xs in zip(*trains[test_type])]\n",
    "            test_predictions = [predict(ibm, xs) for xs in zip(*tests[test_type])]\n",
    "            \n",
    "            train_acc = sum(train_predictions) / N_train\n",
    "            test_acc = sum(test_predictions) / N_test\n",
    "            \n",
    "            print(f'TRAIN: {train_type}, TEST: {test_type}', f'train accuracy: {train_acc}', f'test_accuracy: {test_acc}', sep='\\n')"
   ]
  },
  {
   "cell_type": "code",
   "execution_count": null,
   "metadata": {},
   "outputs": [
    {
     "name": "stdout",
     "output_type": "stream",
     "text": [
      "Training vision...\n"
     ]
    },
    {
     "data": {
      "application/vnd.jupyter.widget-view+json": {
       "model_id": "4e41bf3136c64f5aa36edb03dee0d4bf",
       "version_major": 2,
       "version_minor": 0
      },
      "text/plain": [
       "HBox(children=(IntProgress(value=0, max=5000), HTML(value='')))"
      ]
     },
     "metadata": {},
     "output_type": "display_data"
    },
    {
     "name": "stderr",
     "output_type": "stream",
     "text": [
      "/home/sean/documents/classes/NEURO_1401/final/buffet.py:167: RuntimeWarning: divide by zero encountered in log\n",
      "  lpz = np.log(np.stack((self.N - mi, mi)))\n",
      "/home/sean/documents/classes/NEURO_1401/final/buffet.py:45: RuntimeWarning: invalid value encountered in log\n",
      "  ll = self.D * np.log(sigma) + np.power(self.X[i] - mu, 2).sum() / sigma\n"
     ]
    }
   ],
   "source": [
    "run_experiment(X_train, X_test, seed=4)"
   ]
  },
  {
   "cell_type": "code",
   "execution_count": null,
   "metadata": {},
   "outputs": [],
   "source": []
  }
 ],
 "metadata": {
  "kernelspec": {
   "display_name": "Python 3",
   "language": "python",
   "name": "python3"
  },
  "language_info": {
   "codemirror_mode": {
    "name": "ipython",
    "version": 3
   },
   "file_extension": ".py",
   "mimetype": "text/x-python",
   "name": "python",
   "nbconvert_exporter": "python",
   "pygments_lexer": "ipython3",
   "version": "3.7.3"
  }
 },
 "nbformat": 4,
 "nbformat_minor": 2
}
