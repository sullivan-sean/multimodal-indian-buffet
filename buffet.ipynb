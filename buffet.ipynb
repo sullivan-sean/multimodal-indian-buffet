{
 "cells": [
  {
   "cell_type": "code",
   "execution_count": null,
   "metadata": {},
   "outputs": [],
   "source": [
    "!sh get_data.sh"
   ]
  },
  {
   "cell_type": "code",
   "execution_count": null,
   "metadata": {},
   "outputs": [],
   "source": [
    "import numpy as np\n",
    "from scipy.special import factorial\n",
    "from tqdm import tqdm_notebook\n",
    "import matplotlib.pyplot as plt\n",
    "from load_data import get_data"
   ]
  },
  {
   "cell_type": "code",
   "execution_count": null,
   "metadata": {},
   "outputs": [],
   "source": [
    "from try_4 import PyIBP\n",
    "np.random.seed(45222)\n",
    "\n",
    "def init_ibm(data):\n",
    "    Xs = len(data)\n",
    "    return PyIBP(data, (1, 1, 1), [(1.7, 1, 1)] * Xs, [(0.5, 1, 1)] * Xs)"
   ]
  },
  {
   "cell_type": "code",
   "execution_count": null,
   "metadata": {},
   "outputs": [],
   "source": [
    "X_train, X_test = get_data(include_labels=True)"
   ]
  },
  {
   "cell_type": "code",
   "execution_count": null,
   "metadata": {},
   "outputs": [],
   "source": [
    "ibm = init_ibm([X_train[0], X_train[1], X_train[2]])"
   ]
  },
  {
   "cell_type": "code",
   "execution_count": null,
   "metadata": {},
   "outputs": [],
   "source": [
    "ibm.run_sampler(iters=5000)"
   ]
  },
  {
   "cell_type": "code",
   "execution_count": null,
   "metadata": {},
   "outputs": [],
   "source": [
    "def predict(model, i, Xs):\n",
    "    best = (-float('inf'), None, None)\n",
    "    for Z in model.Zs:\n",
    "        m = Z.sum(axis=0) - Z\n",
    "        lps = np.sum(np.log(np.where(Z == 1, m, model.N - m) / model.N), axis=1)\n",
    "        for f, X in zip(model.feats[:-1], Xs[:-1]):\n",
    "            X_bar = Z @ f.weights(Z)\n",
    "            diffs = np.sum((X - X_bar) ** 2, axis=1) / (2 * f.var_x)\n",
    "            lps -= diffs + np.log(2 * np.pi) / 2 + np.log(f.var_x) * f.D / 2\n",
    "        i = np.argmax(lps)\n",
    "        if lps[i] > best[0]:\n",
    "            best = lps[i], Z, i\n",
    "    best_lp, best_Z, best_i = best\n",
    "    W = model.feats[-1].weights(best_Z)\n",
    "    X_w_pred = best_Z[best_i] @ W\n",
    "    print(X_w_pred, Xs[-1])\n",
    "    print((best_i == i) == (Xs[-1][np.argmax(X_w_pred)] == 1))\n",
    "    return Xs[-1][np.argmax(X_w_pred)] == 1"
   ]
  },
  {
   "cell_type": "code",
   "execution_count": null,
   "metadata": {},
   "outputs": [],
   "source": [
    "XS = X_train\n",
    "N = len(XS[0])\n",
    "sum(predict(ibm, i, [X[i] for X in [XS[0], XS[2]]]) for i in range(N)) / N"
   ]
  },
  {
   "cell_type": "code",
   "execution_count": null,
   "metadata": {},
   "outputs": [],
   "source": []
  }
 ],
 "metadata": {
  "kernelspec": {
   "display_name": "Python 3",
   "language": "python",
   "name": "python3"
  }
 },
 "nbformat": 4,
 "nbformat_minor": 2
}
